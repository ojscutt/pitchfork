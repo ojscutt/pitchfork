{
 "cells": [
  {
   "cell_type": "markdown",
   "id": "88a79dc1-1054-4cb4-b751-3839dda9d7d1",
   "metadata": {},
   "source": [
    "# 0) Make Star Dict\n",
    "Notebook showing how to save a dictionary of stellar observables in a format that will work with the rest of the repo.\n",
    "\n",
    "This is not necessary if you only want to try with a couple of benchmark stars (the `stars` folder should already contain all you need to run sampling on the Sun and 16 Cygni A & B), but will come in handy if you want to try running pitchfork on your own stars!\n",
    "\n",
    "The general format is:\n",
    "```\n",
    "{'calc_effective_T': [value, uncertainty],\n",
    " 'luminosity': [value, uncertainty],\n",
    " 'star_feh': [value, uncertainty],\n",
    " 'nu_0_{n_min}': [value, uncertainty],\n",
    " ...\n",
    " 'nu_0_{n_max}': [value, uncertainty],\n",
    " 'dnu': [value, uncertainty],\n",
    " 'nu_max': [value, uncertainty]}\n",
    "```\n",
    "where `n_min` and `n_max` are the minimum and maximum radial orders observed.\n",
    "\n",
    "A couple important notes\n",
    "- `dnu`, and `nu_max` must have non-NaN entries `value` for inference to run\n",
    "- `calc_effective_T`, `luminosity`, and `star_feh` must have non-NaN entries in both `value` and `uncertainty` for inference to run - if data is not available for your star, or you want to investigate the loss of constraint when not considering `luminosity` for example, you can just enter a reasonable estimate in `value` and a huge value in `unc` to nullify the effect on the likelihood\n",
    "- Mode frequency entries can be omitted if they are not identified so long as they do not fall within range `n_min < n < n_max` - modes in this range should have entries but you can set the uncertainty to a massive value to nullify impact on likelihood (see above) if they are not identified for whatever reason"
   ]
  },
  {
   "cell_type": "code",
   "execution_count": null,
   "id": "aebdc879-db42-4722-bd5b-081c09753295",
   "metadata": {},
   "outputs": [],
   "source": [
    "import json"
   ]
  },
  {
   "cell_type": "markdown",
   "id": "26272382-c7c4-47e0-9161-2a029f26c420",
   "metadata": {},
   "source": [
    "## inspect TEMPLATE.json\n",
    "The stars folder where we'll keep our observables and sampling results contains a template star observable dictionary (`stars/TEMPLATE/TEMPLATE.json`) that shows the dictionary structure that the rest of the repo expects - we'll build of this, and I'll show an example of how we define our dictionary of observables for the Sun.\n",
    "\n",
    "Let's start by loading in and inspecting the template dict:"
   ]
  },
  {
   "cell_type": "code",
   "execution_count": null,
   "id": "48658334-9b86-4eef-b597-d9ca68a53373",
   "metadata": {},
   "outputs": [],
   "source": [
    "with open('stars/TEMPLATE/TEMPLATE.json', 'r') as fp:\n",
    "    template_dict = json.load(fp)\n",
    "\n",
    "template_dict"
   ]
  },
  {
   "cell_type": "markdown",
   "id": "6a8de544-611e-4f0f-9008-28bf1225d9e2",
   "metadata": {},
   "source": [
    "This dict shows the maximum number of observables we could possibly include (i.e all of the outputs that `pitchfork` was trained on).\n",
    "\n",
    "In reality, we'd probably have fewer than this. Let's see how we'd use this to make an observables dict for the Sun."
   ]
  },
  {
   "cell_type": "markdown",
   "id": "2fab6ed9-f8c9-489b-ad2e-62e29bfaa0c7",
   "metadata": {},
   "source": [
    "# Examples\n",
    "Here's an example of an observables dictionary for the Sun that we can save use to run the pitchfork sampler:"
   ]
  },
  {
   "cell_type": "code",
   "execution_count": null,
   "id": "05166453-f65b-4544-b66e-95ea12397d4b",
   "metadata": {},
   "outputs": [],
   "source": [
    "star_name = 'Sun'\n",
    "\n",
    "star_dict = {\n",
    "    'calc_effective_T': [5777, 20],\n",
    "    'luminosity': [1, 0.001],\n",
    "    'star_feh': [0, 0.01],\n",
    "    'nu_0_6': [972.615, 0.002],\n",
    "    'nu_0_7': [1117.993, 0.004],\n",
    "    'nu_0_8': [1263.198, 0.005],\n",
    "    'nu_0_9': [1407.472, 0.006],\n",
    "    'nu_0_10': [1548.336, 0.007],\n",
    "    'nu_0_11': [1686.594, 0.012],\n",
    "    'nu_0_12': [1822.202, 0.012],\n",
    "    'nu_0_13': [1957.452, 0.012],\n",
    "    'nu_0_14': [2093.518, 0.013],\n",
    "    'nu_0_15': [2228.749, 0.014],\n",
    "    'nu_0_16': [2362.788, 0.016],\n",
    "    'nu_0_17': [2496.18, 0.017],\n",
    "    'nu_0_18': [2629.668, 0.015],\n",
    "    'nu_0_19': [2764.142, 0.015],\n",
    "    'nu_0_20': [2899.022, 0.013],\n",
    "    'nu_0_21': [3033.754, 0.014],\n",
    "    'nu_0_22': [3168.618, 0.017],\n",
    "    'nu_0_23': [3303.52, 0.021],\n",
    "    'nu_0_24': [3438.992, 0.03],\n",
    "    'nu_0_25': [3574.893, 0.048],\n",
    "    'nu_0_26': [3710.717, 0.088],\n",
    "    'nu_0_27': [3846.993, 0.177],\n",
    "    'nu_0_28': [3984.214, 0.323],\n",
    "    'dnu': [135.1, 0.2],\n",
    "    'nu_max': [3141, 12]\n",
    "}\n",
    "\n",
    "## save to expected location:\n",
    "\n",
    "with open(f'stars/{star_name}/{star_name}.json', 'w') as fp:\n",
    "    json.dump(star_dict, fp)"
   ]
  },
  {
   "cell_type": "markdown",
   "id": "bc156675-904f-492b-b463-c82cd7b51a19",
   "metadata": {},
   "source": [
    "Done! That's all there is to it.\n",
    "\n",
    "Here's an empty version of the above so you can just chuck in your own data:"
   ]
  },
  {
   "cell_type": "code",
   "execution_count": null,
   "id": "de133dc7-e71b-44b0-b6b3-944bb3e566fc",
   "metadata": {},
   "outputs": [],
   "source": [
    "star_name = ... #<- your star name here!\n",
    "\n",
    "{'calc_effective_T': [ , ],\n",
    " 'luminosity': [ , ],\n",
    " 'star_feh': [ , ],\n",
    " 'nu_0_6': [ , ],\n",
    " 'nu_0_7': [ , ],\n",
    " 'nu_0_8': [ , ],\n",
    " 'nu_0_9': [ , ],\n",
    " 'nu_0_10': [ , ],\n",
    " 'nu_0_11': [ , ],\n",
    " 'nu_0_12': [ , ],\n",
    " 'nu_0_13': [ , ],\n",
    " 'nu_0_14': [ , ],\n",
    " 'nu_0_15': [ , ],\n",
    " 'nu_0_16': [ , ],\n",
    " 'nu_0_17': [ , ],\n",
    " 'nu_0_18': [ , ],\n",
    " 'nu_0_19': [ , ],\n",
    " 'nu_0_20': [ , ],\n",
    " 'nu_0_21': [ , ],\n",
    " 'nu_0_22': [ , ],\n",
    " 'nu_0_23': [ , ],\n",
    " 'nu_0_24': [ , ],\n",
    " 'nu_0_25': [ , ],\n",
    " 'nu_0_26': [ , ],\n",
    " 'nu_0_27': [ , ],\n",
    " 'nu_0_28': [ , ],\n",
    " 'nu_0_29': [ , ],\n",
    " 'nu_0_30': [ , ],\n",
    " 'nu_0_31': [ , ],\n",
    " 'nu_0_32': [ , ],\n",
    " 'nu_0_33': [ , ],\n",
    " 'nu_0_34': [ , ],\n",
    " 'nu_0_35': [ , ],\n",
    " 'nu_0_36': [ , ],\n",
    " 'nu_0_37': [ , ],\n",
    " 'nu_0_38': [ , ],\n",
    " 'nu_0_39': [ , ],\n",
    " 'nu_0_40': [ , ],\n",
    " 'dnu': [ , ],\n",
    " 'nu_max': [ , ]}\n",
    "\n",
    "\n",
    "## save to expected location:\n",
    "\n",
    "with open(f'stars/{star_name}/{star_name}.json', 'w') as fp:\n",
    "    json.dump(star_dict, fp)"
   ]
  },
  {
   "cell_type": "markdown",
   "id": "cccb3599-04dd-4f79-89a7-bd2240e26382",
   "metadata": {},
   "source": [
    "Nice. Time to do some posterior sampling :)"
   ]
  }
 ],
 "metadata": {
  "kernelspec": {
   "display_name": "Python 3 (ipykernel)",
   "language": "python",
   "name": "python3"
  },
  "language_info": {
   "codemirror_mode": {
    "name": "ipython",
    "version": 3
   },
   "file_extension": ".py",
   "mimetype": "text/x-python",
   "name": "python",
   "nbconvert_exporter": "python",
   "pygments_lexer": "ipython3",
   "version": "3.13.7"
  }
 },
 "nbformat": 4,
 "nbformat_minor": 5
}
