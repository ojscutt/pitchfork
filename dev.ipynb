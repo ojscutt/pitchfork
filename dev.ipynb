{
 "cells": [
  {
   "cell_type": "code",
   "execution_count": 3,
   "id": "c7f45800-5955-41a6-b897-946ae31fb60f",
   "metadata": {},
   "outputs": [],
   "source": [
    "import numpy as np\n",
    "import jax\n",
    "import jax.numpy as jnp\n",
    "\n",
    "jax.config.update(\"jax_enable_x64\", True)\n",
    "\n",
    "#import tinygp\n",
    "#from tinygp import GaussianProcess\n",
    "from tinygp import kernels\n",
    "\n",
    "import json\n",
    "import pickle\n",
    "\n",
    "import ultranest\n",
    "\n",
    "from scripts import numpy_compile, jax_compile"
   ]
  },
  {
   "cell_type": "code",
   "execution_count": 6,
   "id": "326b0bbe-9098-402b-8a4a-7ad84dad57d7",
   "metadata": {},
   "outputs": [],
   "source": [
    "with open('pitchfork/pitchfork.json', 'r') as fp:\n",
    "    pitchfork_dict = json.load(fp)\n",
    "\n",
    "pitchfork = numpy_compile(pitchfork_dict)\n",
    "\n",
    "jpitchfork = jax_compile(pitchfork_dict)\n",
    "\n",
    "with open('pitchfork/pitchfork_info.json', 'r') as fp:\n",
    "    pitchfork_info = json.load(fp)\n",
    "\n",
    "pitchfork_cov = np.loadtxt('pitchfork/pitchfork_covariance.txt')"
   ]
  },
  {
   "cell_type": "code",
   "execution_count": 7,
   "id": "e5aa9b96-4f60-4deb-8c2b-6d49bbe1ced9",
   "metadata": {},
   "outputs": [],
   "source": [
    "pca_comps = np.array(pitchfork_info['custom_objects']['inverse_pca']['pca_comps'])\n",
    "pca_mean = np.array(pitchfork_info['custom_objects']['inverse_pca']['pca_mean'])"
   ]
  },
  {
   "cell_type": "code",
   "execution_count": 8,
   "id": "946529fc-e22a-4a63-ac1b-26cb498e2f9b",
   "metadata": {},
   "outputs": [
    {
     "data": {
      "text/plain": [
       "[array([[0.45746291, 0.55022404, 0.37583447]]),\n",
       " array([[ 2.42869059e+00, -2.09924402e-02, -2.91607387e-02,\n",
       "         -6.30696148e-03, -1.37554752e-03,  1.22286922e-03,\n",
       "          4.84569803e-03,  2.07647610e-03,  2.68109677e-03,\n",
       "          9.62887053e-04, -6.12263785e-04,  1.05727241e-03,\n",
       "          1.32305702e-03, -1.92868063e-03, -1.74395222e-03]])]"
      ]
     },
     "execution_count": 8,
     "metadata": {},
     "output_type": "execute_result"
    }
   ],
   "source": [
    "preds = pitchfork.forward_pass(np.array([[0.5,0.5,0.5,0.5,0.5]]))\n",
    "preds"
   ]
  },
  {
   "cell_type": "code",
   "execution_count": 10,
   "id": "8edc1e45-f693-4e3e-ac2b-ded23d2b8cbb",
   "metadata": {},
   "outputs": [],
   "source": [
    "def predict(x, emulator, n_min=6, n_max=40, jaxxed=False):\n",
    "    if jaxxed:\n",
    "        ## def constants\n",
    "        L_sun = 3.828e+26\n",
    "        R_sun = 6.957e+8\n",
    "        SB_sigma = 5.670374419e-8\n",
    "\n",
    "        log_inputs_mean = jnp.array(pitchfork_info[\"data_scaling\"][\"inp_mean\"][0])\n",
    "        \n",
    "        log_inputs_std = jnp.array(pitchfork_info[\"data_scaling\"][\"inp_std\"][0])\n",
    "\n",
    "        log_outputs_mean = jnp.array(pitchfork_info[\"data_scaling\"][\"classical_out_mean\"][0] + pitchfork_info[\"data_scaling\"][\"astero_out_mean\"][0])\n",
    "        \n",
    "        log_outputs_std = jnp.array(pitchfork_info[\"data_scaling\"][\"classical_out_std\"][0] + pitchfork_info[\"data_scaling\"][\"astero_out_std\"][0])\n",
    "        \n",
    "        pca_comps = jnp.array(pitchfork_info['custom_objects']['inverse_pca']['pca_comps'])\n",
    "        \n",
    "        pca_mean = jnp.array(pitchfork_info['custom_objects']['inverse_pca']['pca_mean'])        \n",
    "            \n",
    "        log_inputs = jnp.log10(x)\n",
    "        \n",
    "        standardised_log_inputs = (log_inputs - log_inputs_mean)/log_inputs_std\n",
    "\n",
    "        preds = jpitchfork.forward_pass(standardised_log_inputs)\n",
    "\n",
    "        pca_preds = jnp.tensordot(preds[1], pca_comps, 1) + pca_mean\n",
    "        \n",
    "        standardised_log_outputs = jnp.concatenate((jnp.array(preds[0]), pca_preds), axis=1)\n",
    "\n",
    "        log_outputs = (standardised_log_outputs*log_outputs_std) + log_outputs_mean\n",
    "\n",
    "        outputs = 10**log_outputs\n",
    "\n",
    "        outputs = outputs.at[:,2].set(log_outputs[:,2]) ##we want star_feh in dex\n",
    "\n",
    "        teff = jnp.array(((outputs[:,1]*L_sun) / (4*jnp.pi*SB_sigma*((outputs[:,0]*R_sun)**2)))**0.25)\n",
    "        \n",
    "        outputs = outputs.at[:,0].set(teff)\n",
    "        \n",
    "        outputs = jnp.concatenate((outputs[:,:3], outputs[:,n_min-3:n_max-2]), axis=1)\n",
    "\n",
    "        return outputs\n",
    "        \n",
    "    else:\n",
    "        ## def constants\n",
    "        L_sun = 3.828e+26\n",
    "        R_sun = 6.957e+8\n",
    "        SB_sigma = 5.670374419e-8\n",
    "        \n",
    "        log_inputs_mean = np.array(pitchfork_info[\"data_scaling\"][\"inp_mean\"][0])\n",
    "        \n",
    "        log_inputs_std = np.array(pitchfork_info[\"data_scaling\"][\"inp_std\"][0])\n",
    "\n",
    "        log_outputs_mean = np.array(pitchfork_info[\"data_scaling\"][\"classical_out_mean\"][0] + pitchfork_info[\"data_scaling\"][\"astero_out_mean\"][0])\n",
    "        \n",
    "        log_outputs_std = np.array(pitchfork_info[\"data_scaling\"][\"classical_out_std\"][0] + pitchfork_info[\"data_scaling\"][\"astero_out_std\"][0])\n",
    "\n",
    "        pca_comps = np.array(pitchfork_info['custom_objects']['inverse_pca']['pca_comps'])\n",
    "        \n",
    "        pca_mean = np.array(pitchfork_info['custom_objects']['inverse_pca']['pca_mean'])\n",
    "            \n",
    "        log_inputs = np.log10(x)\n",
    "        \n",
    "        standardised_log_inputs = (log_inputs - log_inputs_mean)/log_inputs_std\n",
    "\n",
    "        preds = pitchfork.forward_pass(standardised_log_inputs)\n",
    "\n",
    "        pca_preds = np.tensordot(preds[1], pca_comps, 1) + pca_mean\n",
    "        \n",
    "        standardised_log_outputs = np.concatenate((np.array(preds[0]), pca_preds), axis=1)\n",
    "\n",
    "        log_outputs = (standardised_log_outputs*log_outputs_std) + log_outputs_mean\n",
    "\n",
    "        outputs = 10**log_outputs\n",
    "\n",
    "        outputs[:,2] = log_outputs[:,2] ##we want star_feh in dex\n",
    "\n",
    "        teff = np.array(((outputs[:,1]*L_sun) / (4*np.pi*SB_sigma*((outputs[:,0]*R_sun)**2)))**0.25)\n",
    "        \n",
    "        outputs[:,0] = teff\n",
    "        \n",
    "        outputs = np.concatenate((np.array(outputs[:,:3]), np.array(outputs[:,n_min-3:n_max-2])), axis=1)\n",
    "\n",
    "        return outputs\n",
    "        "
   ]
  },
  {
   "cell_type": "code",
   "execution_count": 11,
   "id": "fdd323db-de5a-4d9e-8c56-961ad0b2ea5a",
   "metadata": {},
   "outputs": [
    {
     "data": {
      "text/plain": [
       "array([[2.90103052e+03, 6.20954018e-02, 1.68595571e+00, 7.08014276e+03,\n",
       "        3.19778967e+03, 1.91677524e+03, 3.10554663e+03, 4.67799255e+03,\n",
       "        3.58019538e+03, 2.92512615e+03, 4.12115449e+03, 6.41977217e+03,\n",
       "        7.11880497e+03, 6.16948384e+03, 5.66950715e+03, 6.24773686e+03,\n",
       "        7.53749071e+03, 8.78368790e+03, 9.43642634e+03, 9.44136905e+03,\n",
       "        9.04100965e+03, 8.58677296e+03, 8.17628446e+03, 7.67193348e+03,\n",
       "        7.00492316e+03, 6.56804817e+03, 6.88645134e+03, 8.24118060e+03,\n",
       "        1.04124600e+04, 1.23062569e+04, 1.27352167e+04, 1.18730838e+04,\n",
       "        1.08532563e+04, 1.04488193e+04, 1.07413303e+04, 1.14497843e+04,\n",
       "        1.22779177e+04, 1.30732578e+04]])"
      ]
     },
     "execution_count": 11,
     "metadata": {},
     "output_type": "execute_result"
    }
   ],
   "source": [
    "predict(np.array([[0.5,0.5,0.5,0.5,0.5]]), pitchfork)"
   ]
  },
  {
   "cell_type": "markdown",
   "id": "e4535999-b2b6-463f-8a10-72f15831b8c9",
   "metadata": {},
   "source": [
    "## checking speed, np"
   ]
  },
  {
   "cell_type": "code",
   "execution_count": 12,
   "id": "7d9fb6f8-64d4-4324-9782-2dc5caea7cd4",
   "metadata": {},
   "outputs": [],
   "source": [
    "single_point = np.full((1,5), 0.5)\n",
    "million_points = np.full((1_000_000,5), 0.5)"
   ]
  },
  {
   "cell_type": "code",
   "execution_count": 13,
   "id": "b63e362c-314f-48db-8a37-ba5aa999c0a0",
   "metadata": {},
   "outputs": [
    {
     "name": "stdout",
     "output_type": "stream",
     "text": [
      "CPU times: user 973 μs, sys: 0 ns, total: 973 μs\n",
      "Wall time: 816 μs\n"
     ]
    }
   ],
   "source": [
    "%%time\n",
    "wtf_single_pred = predict(single_point, pitchfork)"
   ]
  },
  {
   "cell_type": "code",
   "execution_count": 14,
   "id": "f3b1d389-56cb-4f9c-9c8a-c2dad0c42bcd",
   "metadata": {},
   "outputs": [
    {
     "name": "stdout",
     "output_type": "stream",
     "text": [
      "CPU times: user 1min 42s, sys: 31.6 s, total: 2min 14s\n",
      "Wall time: 11 s\n"
     ]
    }
   ],
   "source": [
    "%%time\n",
    "wtf_million_preds = predict(million_points, pitchfork)"
   ]
  },
  {
   "cell_type": "markdown",
   "id": "37d184dc-f374-46e8-9eb9-bb5f977f4bc9",
   "metadata": {},
   "source": [
    "## checking speed, jax"
   ]
  },
  {
   "cell_type": "code",
   "execution_count": 19,
   "id": "51bb0880-144c-43ff-a999-28eace861801",
   "metadata": {},
   "outputs": [],
   "source": [
    "def jit_predict(x, emulator, n_min=6, n_max=40):\n",
    "    ## def constants\n",
    "    L_sun = 3.828e+26\n",
    "    R_sun = 6.957e+8\n",
    "    SB_sigma = 5.670374419e-8\n",
    "\n",
    "    log_inputs_mean = jnp.array(pitchfork_info[\"data_scaling\"][\"inp_mean\"][0])\n",
    "    \n",
    "    log_inputs_std = jnp.array(pitchfork_info[\"data_scaling\"][\"inp_std\"][0])\n",
    "\n",
    "    log_outputs_mean = jnp.array(pitchfork_info[\"data_scaling\"][\"classical_out_mean\"][0] + pitchfork_info[\"data_scaling\"][\"astero_out_mean\"][0])\n",
    "    \n",
    "    log_outputs_std = jnp.array(pitchfork_info[\"data_scaling\"][\"classical_out_std\"][0] + pitchfork_info[\"data_scaling\"][\"astero_out_std\"][0])\n",
    "    \n",
    "    pca_comps = jnp.array(pitchfork_info['custom_objects']['inverse_pca']['pca_comps'])\n",
    "    \n",
    "    pca_mean = jnp.array(pitchfork_info['custom_objects']['inverse_pca']['pca_mean'])        \n",
    "        \n",
    "    log_inputs = jnp.log10(x)\n",
    "    \n",
    "    standardised_log_inputs = (log_inputs - log_inputs_mean)/log_inputs_std\n",
    "\n",
    "    preds = jpitchfork.jit_forward_pass(standardised_log_inputs)\n",
    "\n",
    "    pca_preds = jnp.tensordot(preds[1], pca_comps, 1) + pca_mean\n",
    "    \n",
    "    standardised_log_outputs = jnp.concatenate((jnp.array(preds[0]), pca_preds), axis=1)\n",
    "\n",
    "    log_outputs = (standardised_log_outputs*log_outputs_std) + log_outputs_mean\n",
    "\n",
    "    outputs = 10**log_outputs\n",
    "\n",
    "    outputs = outputs.at[:,2].set(log_outputs[:,2]) ##we want star_feh in dex\n",
    "\n",
    "    teff = jnp.array(((outputs[:,1]*L_sun) / (4*jnp.pi*SB_sigma*((outputs[:,0]*R_sun)**2)))**0.25)\n",
    "    \n",
    "    outputs = outputs.at[:,0].set(teff)\n",
    "    \n",
    "    outputs = jnp.concatenate((outputs[:,:3], outputs[:,n_min-3:n_max-2]), axis=1)\n",
    "\n",
    "    return outputs\n",
    "\n",
    "\n",
    "jpredict = jax.jit(jit_predict, static_argnums=1, static_argnames =['n_min', 'n_max'])"
   ]
  },
  {
   "cell_type": "code",
   "execution_count": 20,
   "id": "20a453c0-d2fa-42bb-8e06-8515a2bf2ee6",
   "metadata": {},
   "outputs": [],
   "source": [
    "jsingle_point = jnp.array([[1,0.0154,0.2766,1.92,4.6]])\n",
    "jmillion_points = jnp.full((1000000,5), 0.5)"
   ]
  },
  {
   "cell_type": "code",
   "execution_count": 21,
   "id": "29cbaf09-ef61-4dd9-beb3-d2c9e0b3c635",
   "metadata": {},
   "outputs": [
    {
     "data": {
      "text/plain": [
       "Array([[1.    , 0.0154, 0.2766, 1.92  , 4.6   ]], dtype=float64)"
      ]
     },
     "execution_count": 21,
     "metadata": {},
     "output_type": "execute_result"
    }
   ],
   "source": [
    "jsingle_point"
   ]
  },
  {
   "cell_type": "code",
   "execution_count": 22,
   "id": "e7a35e79-800c-4f54-bef0-7c31d57ad44d",
   "metadata": {},
   "outputs": [],
   "source": [
    "j_single_pred = jpredict(jsingle_point, jpitchfork, n_min=6, n_max=28)\n",
    "j_million_preds = jpredict(jmillion_points,jpitchfork, n_min=6, n_max=28)"
   ]
  },
  {
   "cell_type": "code",
   "execution_count": 24,
   "id": "692dae7e-ae9e-44c6-8033-7dcda9339692",
   "metadata": {},
   "outputs": [
    {
     "name": "stdout",
     "output_type": "stream",
     "text": [
      "CPU times: user 535 μs, sys: 164 μs, total: 699 μs\n",
      "Wall time: 352 μs\n"
     ]
    }
   ],
   "source": [
    "%%time\n",
    "j_single_pred = jpredict(jsingle_point, jpitchfork, n_min=6, n_max=28)"
   ]
  },
  {
   "cell_type": "code",
   "execution_count": 25,
   "id": "9a388133-b081-4f04-9f72-19708be506dd",
   "metadata": {},
   "outputs": [
    {
     "name": "stdout",
     "output_type": "stream",
     "text": [
      "CPU times: user 1.15 ms, sys: 745 μs, total: 1.9 ms\n",
      "Wall time: 847 μs\n"
     ]
    }
   ],
   "source": [
    "%%time\n",
    "j_million_preds = jpredict(jmillion_points, jpitchfork, n_min=6, n_max=28)"
   ]
  },
  {
   "cell_type": "markdown",
   "id": "985cd4ac-c4dd-4a0b-86e1-bfa29303426f",
   "metadata": {},
   "source": [
    "## solar test"
   ]
  },
  {
   "cell_type": "code",
   "execution_count": 26,
   "id": "1e2aec37-1514-47a2-b40f-c7517a1aa942",
   "metadata": {},
   "outputs": [
    {
     "data": {
      "text/plain": [
       "Array([[1.    , 0.0154, 0.2766, 1.92  , 4.6   ]], dtype=float64)"
      ]
     },
     "execution_count": 26,
     "metadata": {},
     "output_type": "execute_result"
    }
   ],
   "source": [
    "solar_inputs = jnp.array([[1,0.0154,0.2766,1.92,4.6]])\n",
    "solar_inputs"
   ]
  },
  {
   "cell_type": "code",
   "execution_count": 27,
   "id": "3cb2741d-7cf5-460c-a382-59e42a71e1a8",
   "metadata": {},
   "outputs": [
    {
     "data": {
      "text/plain": [
       "Array([[5.78467070e+03, 1.11421245e+00, 1.14405595e-02, 9.02033062e+02,\n",
       "        1.03637525e+03, 1.17022160e+03, 1.30341926e+03, 1.43371597e+03,\n",
       "        1.56043806e+03, 1.68555188e+03, 1.81102455e+03, 1.93682656e+03,\n",
       "        2.06201327e+03, 2.18635236e+03, 2.31051803e+03, 2.43528857e+03,\n",
       "        2.56082442e+03, 2.68677400e+03, 2.81288396e+03, 2.93916225e+03,\n",
       "        3.06567519e+03, 3.19257919e+03, 3.31996822e+03, 3.44761916e+03,\n",
       "        3.57521420e+03, 3.70282997e+03]], dtype=float64)"
      ]
     },
     "execution_count": 27,
     "metadata": {},
     "output_type": "execute_result"
    }
   ],
   "source": [
    "jit_predict(solar_inputs, jpitchfork, n_min=6, n_max=28)"
   ]
  },
  {
   "cell_type": "code",
   "execution_count": 28,
   "id": "b47de600-b875-4fc6-a817-c976d42b70c6",
   "metadata": {},
   "outputs": [
    {
     "data": {
      "text/plain": [
       "Array([[5.78467070e+03, 1.11421245e+00, 1.14405595e-02, 9.02033062e+02,\n",
       "        1.03637525e+03, 1.17022160e+03, 1.30341926e+03, 1.43371597e+03,\n",
       "        1.56043806e+03, 1.68555188e+03, 1.81102455e+03, 1.93682656e+03,\n",
       "        2.06201327e+03, 2.18635236e+03, 2.31051803e+03, 2.43528857e+03,\n",
       "        2.56082442e+03, 2.68677400e+03, 2.81288396e+03, 2.93916225e+03,\n",
       "        3.06567519e+03, 3.19257919e+03, 3.31996822e+03, 3.44761916e+03,\n",
       "        3.57521420e+03, 3.70282997e+03, 3.83077309e+03, 3.95890710e+03,\n",
       "        4.08657067e+03, 4.21312110e+03, 4.33835058e+03, 4.46238924e+03,\n",
       "        4.58510386e+03, 4.70585252e+03, 4.82399103e+03, 4.93984082e+03,\n",
       "        5.05499279e+03, 5.17144098e+03]], dtype=float64)"
      ]
     },
     "execution_count": 28,
     "metadata": {},
     "output_type": "execute_result"
    }
   ],
   "source": [
    "jpredict(solar_inputs, jpitchfork)"
   ]
  },
  {
   "cell_type": "markdown",
   "id": "29213202-0370-45f0-a517-e2cd3968c576",
   "metadata": {},
   "source": [
    "## nice! with n_min and n_max working too. now to get running inference..."
   ]
  },
  {
   "cell_type": "code",
   "execution_count": null,
   "id": "1525f375-2546-490d-b68f-8e7f6a9e506a",
   "metadata": {},
   "outputs": [],
   "source": []
  }
 ],
 "metadata": {
  "kernelspec": {
   "display_name": "Python 3 (ipykernel)",
   "language": "python",
   "name": "python3"
  },
  "language_info": {
   "codemirror_mode": {
    "name": "ipython",
    "version": 3
   },
   "file_extension": ".py",
   "mimetype": "text/x-python",
   "name": "python",
   "nbconvert_exporter": "python",
   "pygments_lexer": "ipython3",
   "version": "3.13.7"
  }
 },
 "nbformat": 4,
 "nbformat_minor": 5
}
