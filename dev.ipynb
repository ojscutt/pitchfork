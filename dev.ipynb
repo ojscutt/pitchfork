{
 "cells": [
  {
   "cell_type": "code",
   "execution_count": 1,
   "id": "c7f45800-5955-41a6-b897-946ae31fb60f",
   "metadata": {},
   "outputs": [
    {
     "name": "stderr",
     "output_type": "stream",
     "text": [
      "2025-09-06 16:17:14.624085: E external/local_xla/xla/stream_executor/cuda/cuda_fft.cc:485] Unable to register cuFFT factory: Attempting to register factory for plugin cuFFT when one has already been registered\n",
      "2025-09-06 16:17:14.635925: E external/local_xla/xla/stream_executor/cuda/cuda_dnn.cc:8454] Unable to register cuDNN factory: Attempting to register factory for plugin cuDNN when one has already been registered\n",
      "2025-09-06 16:17:14.639430: E external/local_xla/xla/stream_executor/cuda/cuda_blas.cc:1452] Unable to register cuBLAS factory: Attempting to register factory for plugin cuBLAS when one has already been registered\n",
      "2025-09-06 16:17:15.260278: W tensorflow/compiler/tf2tensorrt/utils/py_utils.cc:38] TF-TRT Warning: Could not find TensorRT\n"
     ]
    }
   ],
   "source": [
    "import numpy as np\n",
    "import jax\n",
    "import jax.numpy as jnp\n",
    "import json\n",
    "import pickle\n",
    "\n",
    "import scipy\n",
    "from scipy import constants\n",
    "from scipy import stats\n",
    "import astropy.constants\n",
    "\n",
    "\n",
    "from wtf import wtf_compile"
   ]
  },
  {
   "cell_type": "code",
   "execution_count": 13,
   "id": "326b0bbe-9098-402b-8a4a-7ad84dad57d7",
   "metadata": {},
   "outputs": [],
   "source": [
    "with open('pitchfork/pitchfork.json', 'r') as fp:\n",
    "    pitchfork_dict = json.load(fp)\n",
    "\n",
    "pitchfork = wtf_compile(pitchfork_dict, jaxxed=False)\n",
    "\n",
    "jpitchfork = wtf_compile(pitchfork_dict, jaxxed=True)\n",
    "\n",
    "with open('pitchfork/pitchfork_info.json', 'r') as fp:\n",
    "    pitchfork_info = json.load(fp)\n",
    "\n",
    "pitchfork_cov = np.loadtxt('pitchfork/pitchfork_covariance.txt')"
   ]
  },
  {
   "cell_type": "code",
   "execution_count": 14,
   "id": "e5aa9b96-4f60-4deb-8c2b-6d49bbe1ced9",
   "metadata": {},
   "outputs": [],
   "source": [
    "pca_comps = np.array(pitchfork_info['custom_objects']['inverse_pca']['pca_comps'])\n",
    "pca_mean = np.array(pitchfork_info['custom_objects']['inverse_pca']['pca_mean'])"
   ]
  },
  {
   "cell_type": "code",
   "execution_count": 15,
   "id": "946529fc-e22a-4a63-ac1b-26cb498e2f9b",
   "metadata": {},
   "outputs": [
    {
     "data": {
      "text/plain": [
       "[array([[0.45746291, 0.55022404, 0.37583447]]),\n",
       " array([[ 2.42869059e+00, -2.09924402e-02, -2.91607387e-02,\n",
       "         -6.30696148e-03, -1.37554752e-03,  1.22286922e-03,\n",
       "          4.84569803e-03,  2.07647610e-03,  2.68109677e-03,\n",
       "          9.62887053e-04, -6.12263785e-04,  1.05727241e-03,\n",
       "          1.32305702e-03, -1.92868063e-03, -1.74395222e-03]])]"
      ]
     },
     "execution_count": 15,
     "metadata": {},
     "output_type": "execute_result"
    }
   ],
   "source": [
    "preds = pitchfork.forward(np.array([[0.5,0.5,0.5,0.5,0.5]]))\n",
    "preds"
   ]
  },
  {
   "cell_type": "code",
   "execution_count": 22,
   "id": "8edc1e45-f693-4e3e-ac2b-ded23d2b8cbb",
   "metadata": {},
   "outputs": [],
   "source": [
    "def pcann(x, jaxxed=False):\n",
    "    if jaxxed:\n",
    "        y = jnp.tensordot(x, pca_comps, 1) + pca_mean\n",
    "        return y\n",
    "    else:\n",
    "        y = np.tensordot(x, pca_comps, 1) + pca_mean\n",
    "        return y\n",
    "\n",
    "\n",
    "def predict(x, emulator, jaxxed=False):\n",
    "    if jaxxed:\n",
    "        log_inputs_mean = jnp.array(pitchfork_info[\"data_scaling\"][\"inp_mean\"][0])\n",
    "        \n",
    "        log_inputs_std = jnp.array(pitchfork_info[\"data_scaling\"][\"inp_std\"][0])\n",
    "\n",
    "        log_outputs_mean = jnp.array(pitchfork_info[\"data_scaling\"][\"classical_out_mean\"][0] + pitchfork_info[\"data_scaling\"][\"astero_out_mean\"][0])\n",
    "        \n",
    "        log_outputs_std = jnp.array(pitchfork_info[\"data_scaling\"][\"classical_out_std\"][0] + pitchfork_info[\"data_scaling\"][\"astero_out_std\"][0])\n",
    "            \n",
    "        log_inputs = jnp.log10(x)\n",
    "        \n",
    "        standardised_log_inputs = (log_inputs - log_inputs_mean)/log_inputs_std\n",
    "\n",
    "        preds = jpitchfork.forward(standardised_log_inputs)\n",
    "        \n",
    "        standardised_log_outputs = jnp.concatenate((jnp.array(preds[0]),jnp.array(pcann(preds[1], jaxxed=jaxxed))), axis=1)\n",
    "\n",
    "        log_outputs = (standardised_log_outputs*log_outputs_std) + log_outputs_mean\n",
    "\n",
    "        outputs = 10**log_outputs\n",
    "\n",
    "        outputs = outputs.at[:,2].set(log_outputs[:,2]) ##we want star_feh in dex\n",
    "\n",
    "        teff = jnp.array(((outputs[:,1]*astropy.constants.L_sun) / (4*jnp.pi*constants.sigma*((outputs[:,0]*astropy.constants.R_sun)**2)))**0.25)\n",
    "        \n",
    "        outputs = outputs.at[:,0].set(teff)\n",
    "        \n",
    "        #outputs = np.concatenate((np.array(outputs[:,:3]), np.array(outputs[:,n_min-3:n_max-2])), axis=1)\n",
    "\n",
    "        return outputs\n",
    "        \n",
    "    else:\n",
    "        log_inputs_mean = np.array(pitchfork_info[\"data_scaling\"][\"inp_mean\"][0])\n",
    "        \n",
    "        log_inputs_std = np.array(pitchfork_info[\"data_scaling\"][\"inp_std\"][0])\n",
    "\n",
    "        log_outputs_mean = np.array(pitchfork_info[\"data_scaling\"][\"classical_out_mean\"][0] + pitchfork_info[\"data_scaling\"][\"astero_out_mean\"][0])\n",
    "        \n",
    "        log_outputs_std = np.array(pitchfork_info[\"data_scaling\"][\"classical_out_std\"][0] + pitchfork_info[\"data_scaling\"][\"astero_out_std\"][0])\n",
    "            \n",
    "        log_inputs = np.log10(x)\n",
    "        \n",
    "        standardised_log_inputs = (log_inputs - log_inputs_mean)/log_inputs_std\n",
    "\n",
    "        preds = pitchfork.forward(standardised_log_inputs)\n",
    "        \n",
    "        standardised_log_outputs = np.concatenate((np.array(preds[0]),np.array(pcann(preds[1], jaxxed=jaxxed))), axis=1)\n",
    "\n",
    "        log_outputs = (standardised_log_outputs*log_outputs_std) + log_outputs_mean\n",
    "\n",
    "        outputs = 10**log_outputs\n",
    "\n",
    "        outputs[:,2] = log_outputs[:,2] ##we want star_feh in dex\n",
    "\n",
    "        teff = np.array(((outputs[:,1]*astropy.constants.L_sun) / (4*np.pi*constants.sigma*((outputs[:,0]*astropy.constants.R_sun)**2)))**0.25)\n",
    "        \n",
    "        outputs[:,0] = teff\n",
    "        \n",
    "        #outputs = np.concatenate((np.array(outputs[:,:3]), np.array(outputs[:,n_min-3:n_max-2])), axis=1)\n",
    "\n",
    "        return outputs\n",
    "        "
   ]
  },
  {
   "cell_type": "code",
   "execution_count": 17,
   "id": "fdd323db-de5a-4d9e-8c56-961ad0b2ea5a",
   "metadata": {},
   "outputs": [
    {
     "data": {
      "text/plain": [
       "array([[2.90103052e+03, 6.20954018e-02, 1.68595571e+00, 7.08014276e+03,\n",
       "        3.19778967e+03, 1.91677524e+03, 3.10554663e+03, 4.67799255e+03,\n",
       "        3.58019538e+03, 2.92512615e+03, 4.12115449e+03, 6.41977217e+03,\n",
       "        7.11880497e+03, 6.16948384e+03, 5.66950715e+03, 6.24773686e+03,\n",
       "        7.53749071e+03, 8.78368790e+03, 9.43642634e+03, 9.44136905e+03,\n",
       "        9.04100965e+03, 8.58677296e+03, 8.17628446e+03, 7.67193348e+03,\n",
       "        7.00492316e+03, 6.56804817e+03, 6.88645134e+03, 8.24118060e+03,\n",
       "        1.04124600e+04, 1.23062569e+04, 1.27352167e+04, 1.18730838e+04,\n",
       "        1.08532563e+04, 1.04488193e+04, 1.07413303e+04, 1.14497843e+04,\n",
       "        1.22779177e+04, 1.30732578e+04]])"
      ]
     },
     "execution_count": 17,
     "metadata": {},
     "output_type": "execute_result"
    }
   ],
   "source": [
    "predict(np.array([[0.5,0.5,0.5,0.5,0.5]]), pitchfork)"
   ]
  },
  {
   "cell_type": "markdown",
   "id": "e4535999-b2b6-463f-8a10-72f15831b8c9",
   "metadata": {},
   "source": [
    "## checking same as tf_model predictions"
   ]
  },
  {
   "cell_type": "code",
   "execution_count": 7,
   "id": "7d9fb6f8-64d4-4324-9782-2dc5caea7cd4",
   "metadata": {},
   "outputs": [],
   "source": [
    "single_point = np.loadtxt('single_point.txt')\n",
    "million_points = np.loadtxt('million_points.txt')\n",
    "\n",
    "tf_single_pred = np.loadtxt('single_pred.txt')\n",
    "tf_million_preds = np.loadtxt('million_preds.txt')"
   ]
  },
  {
   "cell_type": "code",
   "execution_count": 18,
   "id": "b63e362c-314f-48db-8a37-ba5aa999c0a0",
   "metadata": {},
   "outputs": [
    {
     "name": "stdout",
     "output_type": "stream",
     "text": [
      "CPU times: user 12.1 ms, sys: 3 μs, total: 12.1 ms\n",
      "Wall time: 11.8 ms\n"
     ]
    }
   ],
   "source": [
    "%%time\n",
    "wtf_single_pred = predict((single_point,), pitchfork)"
   ]
  },
  {
   "cell_type": "code",
   "execution_count": 19,
   "id": "f3b1d389-56cb-4f9c-9c8a-c2dad0c42bcd",
   "metadata": {},
   "outputs": [
    {
     "name": "stdout",
     "output_type": "stream",
     "text": [
      "CPU times: user 4min 21s, sys: 3.66 s, total: 4min 25s\n",
      "Wall time: 14.9 s\n"
     ]
    }
   ],
   "source": [
    "%%time\n",
    "wtf_million_preds = predict(million_points, pitchfork)"
   ]
  },
  {
   "cell_type": "code",
   "execution_count": 72,
   "id": "a71102f4-3284-4278-b1aa-b3ac06467501",
   "metadata": {},
   "outputs": [
    {
     "name": "stdout",
     "output_type": "stream",
     "text": [
      "max is 0.3264801458105787 for output_idx: 0\n",
      "max is 0.0003017432976775625 for output_idx: 1\n",
      "max is 5.280508935306782e-05 for output_idx: 2\n",
      "max is 0.025187219148772977 for output_idx: 3\n",
      "max is 0.02979354004162522 for output_idx: 4\n",
      "max is 0.027431318265633355 for output_idx: 5\n",
      "max is 0.03289065259672762 for output_idx: 6\n",
      "max is 0.040430318707963694 for output_idx: 7\n",
      "max is 0.034914506904937845 for output_idx: 8\n",
      "max is 0.022977868716477168 for output_idx: 9\n",
      "max is 0.022430189777699536 for output_idx: 10\n",
      "max is 0.03258313786677054 for output_idx: 11\n",
      "max is 0.03966096681930552 for output_idx: 12\n",
      "max is 0.03881206760777698 for output_idx: 13\n",
      "max is 0.03676458832287041 for output_idx: 14\n",
      "max is 0.03901874472433785 for output_idx: 15\n",
      "max is 0.043843065300135625 for output_idx: 16\n",
      "max is 0.04726047655268616 for output_idx: 17\n",
      "max is 0.04756478828607069 for output_idx: 18\n",
      "max is 0.04584842672819137 for output_idx: 19\n",
      "max is 0.04556065424802895 for output_idx: 20\n",
      "max is 0.04730030490732655 for output_idx: 21\n",
      "max is 0.05055279776116872 for output_idx: 22\n",
      "max is 0.057733023996245886 for output_idx: 23\n",
      "max is 0.06657051247838419 for output_idx: 24\n",
      "max is 0.0676341550874909 for output_idx: 25\n",
      "max is 0.0558054770811393 for output_idx: 26\n",
      "max is 0.03972004806496184 for output_idx: 27\n",
      "max is 0.03449595228883546 for output_idx: 28\n",
      "max is 0.04601452146317671 for output_idx: 29\n",
      "max is 0.06714825557585252 for output_idx: 30\n",
      "max is 0.08422165665184188 for output_idx: 31\n",
      "max is 0.08751206738753467 for output_idx: 32\n",
      "max is 0.07825222967838431 for output_idx: 33\n",
      "max is 0.06662868413691318 for output_idx: 34\n",
      "max is 0.06156179751704379 for output_idx: 35\n",
      "max is 0.06547037049287921 for output_idx: 36\n",
      "max is 0.07431873591004776 for output_idx: 37\n"
     ]
    }
   ],
   "source": [
    "for i in range(38):\n",
    "    residuals = wtf_million_preds[:,i] - tf_million_preds[:,i]\n",
    "    print(f'max is {residuals.mean()} for output_idx: {i}')"
   ]
  },
  {
   "cell_type": "markdown",
   "id": "e1ec1b11-4746-411b-a2b1-004cd0b1fdaf",
   "metadata": {},
   "source": [
    "## check jwtf etc"
   ]
  },
  {
   "cell_type": "code",
   "execution_count": 23,
   "id": "9ee3da8c-e670-4d0a-9f0e-e6118cfb9963",
   "metadata": {},
   "outputs": [],
   "source": [
    "jpredict = jax.jit(predict, static_argnums=1, static_argnames='jaxxed')"
   ]
  },
  {
   "cell_type": "code",
   "execution_count": 55,
   "id": "9a5eccf3-6608-46f0-aa3a-d2ef35d021de",
   "metadata": {},
   "outputs": [],
   "source": [
    "j_single_point = jnp.array((np.loadtxt('single_point.txt'),))\n",
    "j_million_points = jnp.array(np.loadtxt('million_points.txt'))\n",
    "\n",
    "j_tf_single_pred = jnp.array(np.loadtxt('single_pred.txt'))\n",
    "j_tf_million_preds = jnp.array(np.loadtxt('million_preds.txt'))"
   ]
  },
  {
   "cell_type": "code",
   "execution_count": 31,
   "id": "4f671f42-829b-45ec-bdba-c7180683b54d",
   "metadata": {},
   "outputs": [
    {
     "name": "stdout",
     "output_type": "stream",
     "text": [
      "CPU times: user 1.16 ms, sys: 4 μs, total: 1.16 ms\n",
      "Wall time: 787 μs\n"
     ]
    }
   ],
   "source": [
    "%%time\n",
    "j_single_pred = jpredict(j_single_point, jpitchfork, jaxxed=True)"
   ]
  },
  {
   "cell_type": "code",
   "execution_count": 56,
   "id": "8a50b485-3cb3-4886-bfce-e791005bcd1b",
   "metadata": {},
   "outputs": [
    {
     "name": "stdout",
     "output_type": "stream",
     "text": [
      "CPU times: user 24.9 ms, sys: 27.1 ms, total: 52.1 ms\n",
      "Wall time: 9.07 ms\n"
     ]
    }
   ],
   "source": [
    "%%time\n",
    "j_million_preds = jpredict(j_million_points, jpitchfork, jaxxed=True)"
   ]
  },
  {
   "cell_type": "code",
   "execution_count": 61,
   "id": "a01b5266-21b8-4a34-8869-221e8650307d",
   "metadata": {},
   "outputs": [
    {
     "data": {
      "text/plain": [
       "Array(5.823207, dtype=float32)"
      ]
     },
     "execution_count": 61,
     "metadata": {},
     "output_type": "execute_result"
    }
   ],
   "source": [
    "j_million_preds[:,1]"
   ]
  },
  {
   "cell_type": "code",
   "execution_count": 71,
   "id": "d2b18494-362a-49d9-8db1-e4aabfc862f5",
   "metadata": {},
   "outputs": [
    {
     "name": "stdout",
     "output_type": "stream",
     "text": [
      "max is 0.32660895586013794 for output_idx: 0\n",
      "max is 0.00030190302641130984 for output_idx: 1\n",
      "max is 5.2873358072247356e-05 for output_idx: 2\n",
      "max is 0.025310326367616653 for output_idx: 3\n",
      "max is 0.02949388697743416 for output_idx: 4\n",
      "max is 0.027463145554065704 for output_idx: 5\n",
      "max is 0.032495710998773575 for output_idx: 6\n",
      "max is 0.040026579052209854 for output_idx: 7\n",
      "max is 0.03511136397719383 for output_idx: 8\n",
      "max is 0.022803984582424164 for output_idx: 9\n",
      "max is 0.022184880450367928 for output_idx: 10\n",
      "max is 0.032263822853565216 for output_idx: 11\n",
      "max is 0.03954284265637398 for output_idx: 12\n",
      "max is 0.03856853023171425 for output_idx: 13\n",
      "max is 0.03684990108013153 for output_idx: 14\n",
      "max is 0.039217039942741394 for output_idx: 15\n",
      "max is 0.04359074681997299 for output_idx: 16\n",
      "max is 0.04720724746584892 for output_idx: 17\n",
      "max is 0.04702378064393997 for output_idx: 18\n",
      "max is 0.04505884274840355 for output_idx: 19\n",
      "max is 0.046020761132240295 for output_idx: 20\n",
      "max is 0.046667445451021194 for output_idx: 21\n",
      "max is 0.051129866391420364 for output_idx: 22\n",
      "max is 0.05747765675187111 for output_idx: 23\n",
      "max is 0.06602126359939575 for output_idx: 24\n",
      "max is 0.06688477098941803 for output_idx: 25\n",
      "max is 0.055830154567956924 for output_idx: 26\n",
      "max is 0.04025150090456009 for output_idx: 27\n",
      "max is 0.033745598047971725 for output_idx: 28\n",
      "max is 0.046545226126909256 for output_idx: 29\n",
      "max is 0.0680418610572815 for output_idx: 30\n",
      "max is 0.0839298814535141 for output_idx: 31\n",
      "max is 0.08681220561265945 for output_idx: 32\n",
      "max is 0.07741349190473557 for output_idx: 33\n",
      "max is 0.06782719492912292 for output_idx: 34\n",
      "max is 0.0624769926071167 for output_idx: 35\n",
      "max is 0.06551025807857513 for output_idx: 36\n",
      "max is 0.07494227588176727 for output_idx: 37\n"
     ]
    }
   ],
   "source": [
    "for i in range(38):\n",
    "    residuals = (j_million_preds[:,i] - j_tf_million_preds[:,i])\n",
    "    print(f'max is {residuals.mean()} for output_idx: {i}')"
   ]
  },
  {
   "cell_type": "code",
   "execution_count": 69,
   "id": "1a3b2d6b-6ee3-41bc-b49f-413aee9badd9",
   "metadata": {},
   "outputs": [
    {
     "data": {
      "text/plain": [
       "dtype('float64')"
      ]
     },
     "execution_count": 69,
     "metadata": {},
     "output_type": "execute_result"
    }
   ],
   "source": [
    "tf_single_pred.dtype"
   ]
  },
  {
   "cell_type": "code",
   "execution_count": null,
   "id": "79a2e4ba-90f3-4b4a-9bd9-4fb94509ac12",
   "metadata": {},
   "outputs": [],
   "source": []
  },
  {
   "cell_type": "code",
   "execution_count": 73,
   "id": "3d5f853a-ffea-4c5a-86f6-5f7cbc2b1fcc",
   "metadata": {},
   "outputs": [
    {
     "name": "stdout",
     "output_type": "stream",
     "text": [
      "max is 0.00012880712165497243 for output_idx: 0\n",
      "max is 1.597288701304933e-07 for output_idx: 1\n",
      "max is 6.826086007549748e-08 for output_idx: 2\n",
      "max is 0.00012305844575166702 for output_idx: 3\n",
      "max is -0.0002996966941282153 for output_idx: 4\n",
      "max is 3.1778228731127456e-05 for output_idx: 5\n",
      "max is -0.0003949769597966224 for output_idx: 6\n",
      "max is -0.00040382082806900144 for output_idx: 7\n",
      "max is 0.00019693374633789062 for output_idx: 8\n",
      "max is -0.000173897497006692 for output_idx: 9\n",
      "max is -0.0002453056222293526 for output_idx: 10\n",
      "max is -0.00031939090695232153 for output_idx: 11\n",
      "max is -0.00011807891860371456 for output_idx: 12\n",
      "max is -0.0002435341157251969 for output_idx: 13\n",
      "max is 8.537109533790499e-05 for output_idx: 14\n",
      "max is 0.00019823663751594722 for output_idx: 15\n",
      "max is -0.000252315541729331 for output_idx: 16\n",
      "max is -5.309674088493921e-05 for output_idx: 17\n",
      "max is -0.0005411254824139178 for output_idx: 18\n",
      "max is -0.0007894913433119655 for output_idx: 19\n",
      "max is 0.0004598613304551691 for output_idx: 20\n",
      "max is -0.000632605399005115 for output_idx: 21\n",
      "max is 0.0005771275027655065 for output_idx: 22\n",
      "max is -0.00025551283033564687 for output_idx: 23\n",
      "max is -0.0005491192569024861 for output_idx: 24\n",
      "max is -0.0007492915028706193 for output_idx: 25\n",
      "max is 2.4807739464449696e-05 for output_idx: 26\n",
      "max is 0.0005313302390277386 for output_idx: 27\n",
      "max is -0.0007503784727305174 for output_idx: 28\n",
      "max is 0.000530688208527863 for output_idx: 29\n",
      "max is 0.0008936595404520631 for output_idx: 30\n",
      "max is -0.0002918441023211926 for output_idx: 31\n",
      "max is -0.000699529773555696 for output_idx: 32\n",
      "max is -0.0008387091220356524 for output_idx: 33\n",
      "max is 0.001198714249767363 for output_idx: 34\n",
      "max is 0.0009155051084235311 for output_idx: 35\n",
      "max is 3.98115225834772e-05 for output_idx: 36\n",
      "max is 0.0006237132474780083 for output_idx: 37\n"
     ]
    }
   ],
   "source": [
    "for i in range(38):\n",
    "    residuals = (j_million_preds[:,i] - wtf_million_preds[:,i])\n",
    "    print(f'max is {residuals.mean()} for output_idx: {i}')"
   ]
  },
  {
   "cell_type": "code",
   "execution_count": null,
   "id": "aa75d562-68fc-442b-ad04-422ebd251c1a",
   "metadata": {},
   "outputs": [],
   "source": []
  }
 ],
 "metadata": {
  "kernelspec": {
   "display_name": "Python 3 (ipykernel)",
   "language": "python",
   "name": "python3"
  },
  "language_info": {
   "codemirror_mode": {
    "name": "ipython",
    "version": 3
   },
   "file_extension": ".py",
   "mimetype": "text/x-python",
   "name": "python",
   "nbconvert_exporter": "python",
   "pygments_lexer": "ipython3",
   "version": "3.12.5"
  }
 },
 "nbformat": 4,
 "nbformat_minor": 5
}
