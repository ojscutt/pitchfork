{
 "cells": [
  {
   "cell_type": "markdown",
   "id": "c25504fd-d39c-469e-aaa4-71031ee877ba",
   "metadata": {},
   "source": [
    "# inference-example\n",
    "In this notebook, we'll run through the process of inferring stellar fundamental properties of solar-like oscillators based on the most solar-like of solar-like oscillators - the Sun!\n",
    "\n",
    "We'll start by defining our priors (the same as those used in the publication).\n",
    "\n",
    "Then, we load in our observed data (Teff, L, Fe/H, and a host of individual modes).\n",
    "\n",
    "We'll use this to define our likelihood function, and then run nested sampling to return a set of fully marginalised posterior samples!"
   ]
  },
  {
   "cell_type": "code",
   "execution_count": null,
   "id": "fb70b2b9-e0d4-469b-b064-e0a03bbc4e92",
   "metadata": {},
   "outputs": [],
   "source": [
    "# imports"
   ]
  },
  {
   "cell_type": "markdown",
   "id": "9b74f2bb-5bc8-4e3e-aef0-9f619c117944",
   "metadata": {},
   "source": [
    "## priors"
   ]
  },
  {
   "cell_type": "markdown",
   "id": "3514d409-72b9-4bcb-bd09-b8ba8901a5a7",
   "metadata": {},
   "source": [
    "## likelihood function"
   ]
  },
  {
   "cell_type": "markdown",
   "id": "9926371e-0d94-4b31-8327-0381dd323e26",
   "metadata": {},
   "source": [
    "## nested sampling"
   ]
  },
  {
   "cell_type": "markdown",
   "id": "13c50074-558d-4ffd-a25e-193a94e61f2f",
   "metadata": {},
   "source": [
    "## interpreting results"
   ]
  },
  {
   "cell_type": "code",
   "execution_count": null,
   "id": "6a21e376-fb41-4443-94eb-292fcfc41909",
   "metadata": {},
   "outputs": [],
   "source": []
  }
 ],
 "metadata": {
  "kernelspec": {
   "display_name": "Python 3 (ipykernel)",
   "language": "python",
   "name": "python3"
  },
  "language_info": {
   "codemirror_mode": {
    "name": "ipython",
    "version": 3
   },
   "file_extension": ".py",
   "mimetype": "text/x-python",
   "name": "python",
   "nbconvert_exporter": "python",
   "pygments_lexer": "ipython3",
   "version": "3.12.5"
  }
 },
 "nbformat": 4,
 "nbformat_minor": 5
}
